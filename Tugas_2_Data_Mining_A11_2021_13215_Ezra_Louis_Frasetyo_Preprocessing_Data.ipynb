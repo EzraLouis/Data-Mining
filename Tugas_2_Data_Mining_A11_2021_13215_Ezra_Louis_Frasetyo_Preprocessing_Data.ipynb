{
  "nbformat": 4,
  "nbformat_minor": 0,
  "metadata": {
    "colab": {
      "provenance": [],
      "authorship_tag": "ABX9TyOIkXYpmCI0DuzoT+sj0MdQ",
      "include_colab_link": true
    },
    "kernelspec": {
      "name": "python3",
      "display_name": "Python 3"
    },
    "language_info": {
      "name": "python"
    }
  },
  "cells": [
    {
      "cell_type": "markdown",
      "metadata": {
        "id": "view-in-github",
        "colab_type": "text"
      },
      "source": [
        "<a href=\"https://colab.research.google.com/github/EzraLouis/Data-Mining/blob/main/Tugas_2_Data_Mining_A11_2021_13215_Ezra_Louis_Frasetyo_Preprocessing_Data.ipynb\" target=\"_parent\"><img src=\"https://colab.research.google.com/assets/colab-badge.svg\" alt=\"Open In Colab\"/></a>"
      ]
    },
    {
      "cell_type": "code",
      "execution_count": 10,
      "metadata": {
        "id": "dNILkipGriZM"
      },
      "outputs": [],
      "source": [
        "import numpy as np\n",
        "import matplotlib.pyplot as plt\n",
        "import pandas as pd"
      ]
    },
    {
      "cell_type": "code",
      "source": [
        "dataset = pd.read_csv('Data2.csv')\n",
        "X = dataset.iloc[:, :-1].values\n",
        "Y = dataset.iloc[:, -1].values"
      ],
      "metadata": {
        "id": "Xi1wQP5Vr0Ns"
      },
      "execution_count": 11,
      "outputs": []
    },
    {
      "cell_type": "code",
      "source": [
        "print(X)"
      ],
      "metadata": {
        "colab": {
          "base_uri": "https://localhost:8080/"
        },
        "id": "Dw1XAB3Br5UU",
        "outputId": "d1063f68-b5de-4e2a-e549-310ded4897f0"
      },
      "execution_count": 12,
      "outputs": [
        {
          "output_type": "stream",
          "name": "stdout",
          "text": [
            "[['Realme 8' 2021.0 3632000.0]\n",
            " ['Oppo A5S' 2019.0 1130000.0]\n",
            " ['Infinix Hot 9' 2020.0 1998000.0]\n",
            " ['Google Pixel 4a' 2020.0 7674000.0]\n",
            " ['Huawei Y5' 2019.0 1525000.0]\n",
            " ['Asus Zenfone 7' nan nan]\n",
            " ['Xiaomi Redmi Note 12 Pro+' nan nan]\n",
            " ['Samsung Galaxy A13' 2022.0 nan]\n",
            " ['Apple iPhone 13 Pro Max' nan 16999000.0]\n",
            " ['vivo V25 Pro' nan 7499000.0]]\n"
          ]
        }
      ]
    },
    {
      "cell_type": "code",
      "source": [
        "print(Y)"
      ],
      "metadata": {
        "colab": {
          "base_uri": "https://localhost:8080/"
        },
        "id": "weoCDk4uszFr",
        "outputId": "8f8d8866-d6d5-472d-f8fa-10963ebaee15"
      },
      "execution_count": 13,
      "outputs": [
        {
          "output_type": "stream",
          "name": "stdout",
          "text": [
            "['Yes' 'No' 'No' 'No' 'No' 'Yes' 'Yes' 'Yes' 'Yes' 'Yes']\n"
          ]
        }
      ]
    },
    {
      "cell_type": "code",
      "source": [
        "from sklearn.impute import SimpleImputer\n",
        "imputer = SimpleImputer(missing_values=np.nan, strategy='mean')\n",
        "imputer.fit(X[:, 1:3])\n",
        "X[:, 1:3]=imputer.transform(X[:, 1:3])"
      ],
      "metadata": {
        "id": "PuR02DLys2lI"
      },
      "execution_count": 14,
      "outputs": []
    },
    {
      "cell_type": "code",
      "source": [
        "print(X)"
      ],
      "metadata": {
        "colab": {
          "base_uri": "https://localhost:8080/"
        },
        "id": "7AMwTBottyd5",
        "outputId": "944be930-bd69-4f99-ac4c-7892e2fa5bfc"
      },
      "execution_count": 15,
      "outputs": [
        {
          "output_type": "stream",
          "name": "stdout",
          "text": [
            "[['Realme 8' 2021.0 3632000.0]\n",
            " ['Oppo A5S' 2019.0 1130000.0]\n",
            " ['Infinix Hot 9' 2020.0 1998000.0]\n",
            " ['Google Pixel 4a' 2020.0 7674000.0]\n",
            " ['Huawei Y5' 2019.0 1525000.0]\n",
            " ['Asus Zenfone 7' 2020.1666666666667 5779571.428571428]\n",
            " ['Xiaomi Redmi Note 12 Pro+' 2020.1666666666667 5779571.428571428]\n",
            " ['Samsung Galaxy A13' 2022.0 5779571.428571428]\n",
            " ['Apple iPhone 13 Pro Max' 2020.1666666666667 16999000.0]\n",
            " ['vivo V25 Pro' 2020.1666666666667 7499000.0]]\n"
          ]
        }
      ]
    },
    {
      "cell_type": "code",
      "source": [
        "from sklearn.compose import ColumnTransformer\n",
        "from sklearn.preprocessing import OneHotEncoder\n",
        "ct = ColumnTransformer(transformers=[('encoder', OneHotEncoder(),[0])], remainder='passthrough')\n",
        "X=np.array(ct.fit_transform(X))"
      ],
      "metadata": {
        "id": "XyEe4et_t3Vm"
      },
      "execution_count": 16,
      "outputs": []
    },
    {
      "cell_type": "code",
      "source": [
        "print(X)"
      ],
      "metadata": {
        "colab": {
          "base_uri": "https://localhost:8080/"
        },
        "id": "Qrx39eaQuCcJ",
        "outputId": "0bf08608-7afe-4a75-cd78-9c08f00a5dd8"
      },
      "execution_count": 17,
      "outputs": [
        {
          "output_type": "stream",
          "name": "stdout",
          "text": [
            "  (0, 6)\t1.0\n",
            "  (0, 10)\t2021.0\n",
            "  (0, 11)\t3632000.0\n",
            "  (1, 5)\t1.0\n",
            "  (1, 10)\t2019.0\n",
            "  (1, 11)\t1130000.0\n",
            "  (2, 4)\t1.0\n",
            "  (2, 10)\t2020.0\n",
            "  (2, 11)\t1998000.0\n",
            "  (3, 2)\t1.0\n",
            "  (3, 10)\t2020.0\n",
            "  (3, 11)\t7674000.0\n",
            "  (4, 3)\t1.0\n",
            "  (4, 10)\t2019.0\n",
            "  (4, 11)\t1525000.0\n",
            "  (5, 1)\t1.0\n",
            "  (5, 10)\t2020.1666666666667\n",
            "  (5, 11)\t5779571.428571428\n",
            "  (6, 8)\t1.0\n",
            "  (6, 10)\t2020.1666666666667\n",
            "  (6, 11)\t5779571.428571428\n",
            "  (7, 7)\t1.0\n",
            "  (7, 10)\t2022.0\n",
            "  (7, 11)\t5779571.428571428\n",
            "  (8, 0)\t1.0\n",
            "  (8, 10)\t2020.1666666666667\n",
            "  (8, 11)\t16999000.0\n",
            "  (9, 9)\t1.0\n",
            "  (9, 10)\t2020.1666666666667\n",
            "  (9, 11)\t7499000.0\n"
          ]
        }
      ]
    },
    {
      "cell_type": "code",
      "source": [
        "from sklearn.preprocessing import LabelEncoder\n",
        "le = LabelEncoder()\n",
        "Y = le.fit_transform(Y)"
      ],
      "metadata": {
        "id": "onQkoNb9uH3n"
      },
      "execution_count": 18,
      "outputs": []
    },
    {
      "cell_type": "code",
      "source": [
        "print(Y)"
      ],
      "metadata": {
        "colab": {
          "base_uri": "https://localhost:8080/"
        },
        "id": "WwO24AG1uKa-",
        "outputId": "af5f08b4-482c-4c2a-d538-694ae271e115"
      },
      "execution_count": 19,
      "outputs": [
        {
          "output_type": "stream",
          "name": "stdout",
          "text": [
            "[1 0 0 0 0 1 1 1 1 1]\n"
          ]
        }
      ]
    },
    {
      "cell_type": "code",
      "source": [
        "from sklearn.model_selection import train_test_split\n",
        "Y_train, Y_test = train_test_split(Y, shuffle=False)"
      ],
      "metadata": {
        "id": "qCtrYN6lwrjh"
      },
      "execution_count": 52,
      "outputs": []
    },
    {
      "cell_type": "code",
      "source": [
        "print(Y_train)"
      ],
      "metadata": {
        "colab": {
          "base_uri": "https://localhost:8080/"
        },
        "id": "s6FTWBmyyMIb",
        "outputId": "958c17b3-633a-43c1-e05e-e3c736dd5d4e"
      },
      "execution_count": 54,
      "outputs": [
        {
          "output_type": "stream",
          "name": "stdout",
          "text": [
            "[1 0 0 0 0 1 1]\n"
          ]
        }
      ]
    },
    {
      "cell_type": "code",
      "source": [
        "print(Y_test)"
      ],
      "metadata": {
        "colab": {
          "base_uri": "https://localhost:8080/"
        },
        "id": "NGc8rpVyyRLg",
        "outputId": "c1fe374c-e2fd-428c-c373-e5675361d06f"
      },
      "execution_count": 55,
      "outputs": [
        {
          "output_type": "stream",
          "name": "stdout",
          "text": [
            "[1 1 1]\n"
          ]
        }
      ]
    }
  ]
}